{
 "cells": [
  {
   "cell_type": "code",
   "execution_count": 1,
   "metadata": {},
   "outputs": [
    {
     "data": {
      "application/javascript": [
       "\n",
       "require(['notebook/js/codecell'], function(codecell) {\n",
       "  codecell.CodeCell.options_default.highlight_modes[\n",
       "      'magic_text/x-csrc'] = {'reg':[/^%%microblaze/]};\n",
       "  Jupyter.notebook.events.one('kernel_ready.Kernel', function(){\n",
       "      Jupyter.notebook.get_cells().map(function(cell){\n",
       "          if (cell.cell_type == 'code'){ cell.auto_highlight(); } }) ;\n",
       "  });\n",
       "});\n"
      ]
     },
     "metadata": {},
     "output_type": "display_data"
    }
   ],
   "source": [
    "from pynq import Overlay"
   ]
  },
  {
   "cell_type": "code",
   "execution_count": 2,
   "metadata": {},
   "outputs": [],
   "source": [
    "counter = Overlay(\"cb4cled_design.bit\")"
   ]
  },
  {
   "cell_type": "code",
   "execution_count": 3,
   "metadata": {},
   "outputs": [
    {
     "data": {
      "text/plain": [
       "dict_keys(['TC', 'ce', 'ceo', 'clk', 'count', 'load', 'loadDat', 'rst', 'up'])"
      ]
     },
     "execution_count": 3,
     "metadata": {},
     "output_type": "execute_result"
    }
   ],
   "source": [
    "counter.ip_dict.keys()"
   ]
  },
  {
   "cell_type": "code",
   "execution_count": 4,
   "metadata": {},
   "outputs": [],
   "source": [
    "clk = counter.clk\n",
    "count = counter.count\n",
    "TC = counter.TC\n",
    "ceo = counter.ceo\n",
    "load = counter.load\n",
    "loadDat = counter.loadDat\n",
    "rst = counter.rst\n",
    "up = counter.up\n",
    "ce = counter.ce"
   ]
  },
  {
   "cell_type": "code",
   "execution_count": 5,
   "metadata": {},
   "outputs": [],
   "source": [
    "load.write(0, 0)\n",
    "ce.write(0, 0)\n",
    "up.write(0, 1)\t\t# Setting up signal to high\n",
    "rst.write(0, 1)\t\t# Asserting reset\n",
    "\n",
    "clk.write(0, 1)\t\t# Rising clock edge\n",
    "clk.write(0, 0)\t\t# Falling clock edge\n",
    "\n",
    "rst.write(0, 0)\t\t# Setting reset signal back to 0\n",
    "clk.write(0, 1)\n",
    "clk.write(0, 0)\n"
   ]
  },
  {
   "cell_type": "code",
   "execution_count": 8,
   "metadata": {},
   "outputs": [
    {
     "name": "stdout",
     "output_type": "stream",
     "text": [
      "Loaded value:  11\n"
     ]
    }
   ],
   "source": [
    "# Load Data\n",
    "loadDat.write(0, 11)\t\t    # Loading value 4 onto counter\n",
    "load.write(0, 1)\t\t\t\t\t    # Asserting load signal\n",
    "clk.write(0, 1)\t\t\t\t\t\t    # Rising clock edge\n",
    "clk.write(0, 0)\t\t\t\t\t\t    # Falling clock edge\n",
    "load.write(0, 0)\t\t\t\t\t    # Setting load signal to low\n",
    "\n",
    "# Set  up counter\n",
    "up.write(0, 1)\t\t\t\t\t\t    # Setting up signal to high\n",
    "clk.write(0, 1)\t\t\t\t\t\t    # Rising clock edge\n",
    "clk.write(0, 0)\t\t\t\t\t\t    # Falling clock edge\n",
    "\n",
    "\n",
    "print(\"Loaded value: \", count.read())\t# Reading count signal"
   ]
  },
  {
   "cell_type": "code",
   "execution_count": 28,
   "metadata": {},
   "outputs": [
    {
     "name": "stdout",
     "output_type": "stream",
     "text": [
      "ceo:  0\n",
      "TC:  1\n",
      "Count:  15\n"
     ]
    }
   ],
   "source": [
    "# Running the Counter and reading output\n",
    "\n",
    "clk.write(0, 0)\n",
    "clk.write(0, 1)\n",
    "ce.write(0, 1)\t\t\t\t\t# Asserting Chip Enable\n",
    "\n",
    "print(\"ceo: \", ceo.read())\t\t# Reading ceo signal\n",
    "\n",
    "clk.write(0, 0)\n",
    "clk.write(0, 1)\n",
    "ce.write(0, 0)\t\t\t\t\t# Setting chip enable to low\n",
    "clk.write(0, 1)\n",
    "clk.write(0, 0)\n",
    "\n",
    "print(\"TC: \", TC.read())\t\t# Reading TC signal\n",
    "print(\"Count: \", count.read())\t# Reading count value\n",
    "\n",
    "clk.write(0, 0)"
   ]
  },
  {
   "cell_type": "code",
   "execution_count": null,
   "metadata": {},
   "outputs": [],
   "source": []
  }
 ],
 "metadata": {
  "kernelspec": {
   "display_name": "Python 3",
   "language": "python",
   "name": "python3"
  },
  "language_info": {
   "codemirror_mode": {
    "name": "ipython",
    "version": 3
   },
   "file_extension": ".py",
   "mimetype": "text/x-python",
   "name": "python",
   "nbconvert_exporter": "python",
   "pygments_lexer": "ipython3",
   "version": "3.6.0"
  }
 },
 "nbformat": 4,
 "nbformat_minor": 2
}
